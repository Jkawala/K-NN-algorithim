{
 "cells": [
  {
   "cell_type": "markdown",
   "metadata": {},
   "source": [
    "# Knn "
   ]
  },
  {
   "cell_type": "code",
   "execution_count": 1,
   "metadata": {},
   "outputs": [
    {
     "name": "stdout",
     "output_type": "stream",
     "text": [
      "Accuracy  0.885\n"
     ]
    }
   ],
   "source": [
    "from sklearn import model_selection\n",
    "from sklearn.neighbors import KNeighborsClassifier\n",
    "from sklearn.preprocessing import StandardScaler\n",
    "import matplotlib.pyplot as plt\n",
    "import numpy as np\n",
    "from sklearn import metrics\n",
    "\n",
    "\n",
    "\n",
    "def runModel(train_features, train_labels, test_features, test_labels):\n",
    "        # create an instance based learner\n",
    "    clf = KNeighborsClassifier()\n",
    "    clf = clf.fit(train_features, train_labels)\n",
    "    \n",
    "    # predict the class for an unseen example\n",
    "    results= clf.predict(test_features)\n",
    "    return metrics.accuracy_score(results, test_labels)\n",
    "    \n",
    "\n",
    "\n",
    "\n",
    "# open the data file \n",
    "allData = np.genfromtxt(\"dataFile.csv\", delimiter=\",\")\n",
    "    \n",
    "# split the data into training and class data\n",
    "y = allData[:, -1]\n",
    "X = allData[:, 0:-1]\n",
    "    \n",
    "# standarize all data\n",
    "scaler = StandardScaler()\n",
    "X = scaler.fit_transform(X)\n",
    "    \n",
    "train_features, test_features, train_labels, test_labels = model_selection.train_test_split( X, y, test_size=0.2, random_state=1)\n",
    "   \n",
    "accur = runModel(train_features, train_labels, test_features, test_labels)\n",
    "print (\"Accuracy \", accur)"
   ]
  },
  {
   "cell_type": "code",
   "execution_count": null,
   "metadata": {},
   "outputs": [],
   "source": []
  }
 ],
 "metadata": {
  "kernelspec": {
   "display_name": "Python 3",
   "language": "python",
   "name": "python3"
  },
  "language_info": {
   "codemirror_mode": {
    "name": "ipython",
    "version": 3
   },
   "file_extension": ".py",
   "mimetype": "text/x-python",
   "name": "python",
   "nbconvert_exporter": "python",
   "pygments_lexer": "ipython3",
   "version": "3.8.5"
  }
 },
 "nbformat": 4,
 "nbformat_minor": 4
}
